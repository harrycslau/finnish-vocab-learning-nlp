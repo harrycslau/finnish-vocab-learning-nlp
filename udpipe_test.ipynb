{
 "cells": [
  {
   "cell_type": "code",
   "execution_count": null,
   "metadata": {},
   "outputs": [],
   "source": [
    "#!pip install ufal.udpipe"
   ]
  },
  {
   "cell_type": "code",
   "execution_count": 1,
   "metadata": {},
   "outputs": [
    {
     "name": "stdout",
     "output_type": "stream",
     "text": [
      "Ilmoittautumiset     NOUN       Ilmoittautuminen\n",
      "alla                 ADP        alla\n",
      "olevan               VERB       olla\n",
      "varauskalenterin     NOUN       varauskalenteri\n",
      "kautta.              ADJ        kautta.\n",
      "Tervetuloa           NOUN       terve#tulo\n",
      "askartelemaan        VERB       askartelea\n",
      "yhdessä!             SYM        yhdessä!\n"
     ]
    }
   ],
   "source": [
    "from ufal.udpipe import Model, Pipeline, ProcessingError\n",
    "\n",
    "# Load model\n",
    "model = Model.load('finnish-tdt-ud-2.5-191206.udpipe')\n",
    "pipeline = Pipeline(model, 'horizontal', Pipeline.DEFAULT, Pipeline.DEFAULT, 'conllu')\n",
    "\n",
    "# Process text\n",
    "text = \"Ilmoittautumiset alla olevan varauskalenterin kautta. Tervetuloa askartelemaan yhdessä!\"\n",
    "error = ProcessingError()\n",
    "processed = pipeline.process(text, error)\n",
    "\n",
    "# Parse the output (it's in CoNLL-U format)\n",
    "for line in processed.split('\\n'):\n",
    "    if line.startswith('#') or not line.strip():  # Skip comments and empty lines\n",
    "        continue\n",
    "    fields = line.split('\\t')\n",
    "    if len(fields) > 3:\n",
    "        form, lemma, pos = fields[1], fields[2], fields[3]\n",
    "        print(f\"{form:<20} {pos:<10} {lemma}\")"
   ]
  },
  {
   "cell_type": "code",
   "execution_count": null,
   "metadata": {},
   "outputs": [],
   "source": []
  }
 ],
 "metadata": {
  "kernelspec": {
   "display_name": "llmenv",
   "language": "python",
   "name": "python3"
  },
  "language_info": {
   "codemirror_mode": {
    "name": "ipython",
    "version": 3
   },
   "file_extension": ".py",
   "mimetype": "text/x-python",
   "name": "python",
   "nbconvert_exporter": "python",
   "pygments_lexer": "ipython3",
   "version": "3.11.9"
  }
 },
 "nbformat": 4,
 "nbformat_minor": 2
}
