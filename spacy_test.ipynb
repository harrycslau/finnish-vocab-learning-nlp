{
 "cells": [
  {
   "cell_type": "code",
   "execution_count": 1,
   "metadata": {},
   "outputs": [],
   "source": [
    "#!pip install spacy\n",
    "#!python -m spacy download fi_core_news_sm\n",
    "#!python -m spacy download fi_core_news_lg"
   ]
  },
  {
   "cell_type": "code",
   "execution_count": 2,
   "metadata": {},
   "outputs": [],
   "source": [
    "import spacy"
   ]
  },
  {
   "cell_type": "code",
   "execution_count": 4,
   "metadata": {},
   "outputs": [
    {
     "name": "stdout",
     "output_type": "stream",
     "text": [
      "[('Ilmoittautumiset', 'NOUN', 'Ilmoittautumiset'), ('alla', 'ADP', 'alla'), ('olevan', 'VERB', 'olla'), ('varauskalenterin', 'NOUN', 'varauskalenteri'), ('kautta', 'ADP', 'kautta'), ('.', 'PUNCT', '.'), ('Tervetuloa', 'NOUN', 'Tervetuloa'), ('askartelemaan', 'VERB', 'askartelea'), ('yhdessä', 'ADV', 'yhdessä'), ('!', 'PUNCT', '!')]\n"
     ]
    }
   ],
   "source": [
    "nlp = spacy.load(\"fi_core_news_lg\")\n",
    "import fi_core_news_lg\n",
    "nlp = fi_core_news_lg.load()\n",
    "doc = nlp(\"Ilmoittautumiset alla olevan varauskalenterin kautta. Tervetuloa askartelemaan yhdessä!\")\n",
    "print([(w.text, w.pos_, w.lemma_) for w in doc])"
   ]
  },
  {
   "cell_type": "code",
   "execution_count": null,
   "metadata": {},
   "outputs": [],
   "source": []
  }
 ],
 "metadata": {
  "kernelspec": {
   "display_name": "llmenv",
   "language": "python",
   "name": "python3"
  },
  "language_info": {
   "codemirror_mode": {
    "name": "ipython",
    "version": 3
   },
   "file_extension": ".py",
   "mimetype": "text/x-python",
   "name": "python",
   "nbconvert_exporter": "python",
   "pygments_lexer": "ipython3",
   "version": "3.11.9"
  }
 },
 "nbformat": 4,
 "nbformat_minor": 2
}
