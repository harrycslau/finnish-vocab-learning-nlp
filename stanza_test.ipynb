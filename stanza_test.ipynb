{
 "cells": [
  {
   "cell_type": "code",
   "execution_count": 1,
   "metadata": {},
   "outputs": [
    {
     "name": "stdout",
     "output_type": "stream",
     "text": [
      "Collecting stanza\n",
      "  Downloading stanza-1.9.2-py3-none-any.whl.metadata (13 kB)\n",
      "Requirement already satisfied: emoji in /Users/harrycslau/miniconda3/envs/llmenv/lib/python3.11/site-packages (from stanza) (2.12.1)\n",
      "Requirement already satisfied: numpy in /Users/harrycslau/miniconda3/envs/llmenv/lib/python3.11/site-packages (from stanza) (1.26.4)\n",
      "Requirement already satisfied: protobuf>=3.15.0 in /Users/harrycslau/miniconda3/envs/llmenv/lib/python3.11/site-packages (from stanza) (4.25.3)\n",
      "Requirement already satisfied: requests in /Users/harrycslau/miniconda3/envs/llmenv/lib/python3.11/site-packages (from stanza) (2.32.2)\n",
      "Requirement already satisfied: networkx in /Users/harrycslau/miniconda3/envs/llmenv/lib/python3.11/site-packages (from stanza) (3.3)\n",
      "Requirement already satisfied: torch>=1.3.0 in /Users/harrycslau/miniconda3/envs/llmenv/lib/python3.11/site-packages (from stanza) (2.3.1)\n",
      "Requirement already satisfied: tqdm in /Users/harrycslau/miniconda3/envs/llmenv/lib/python3.11/site-packages (from stanza) (4.66.4)\n",
      "Requirement already satisfied: filelock in /Users/harrycslau/miniconda3/envs/llmenv/lib/python3.11/site-packages (from torch>=1.3.0->stanza) (3.15.4)\n",
      "Requirement already satisfied: typing-extensions>=4.8.0 in /Users/harrycslau/miniconda3/envs/llmenv/lib/python3.11/site-packages (from torch>=1.3.0->stanza) (4.12.2)\n",
      "Requirement already satisfied: sympy in /Users/harrycslau/miniconda3/envs/llmenv/lib/python3.11/site-packages (from torch>=1.3.0->stanza) (1.12.1)\n",
      "Requirement already satisfied: jinja2 in /Users/harrycslau/miniconda3/envs/llmenv/lib/python3.11/site-packages (from torch>=1.3.0->stanza) (3.1.4)\n",
      "Requirement already satisfied: fsspec in /Users/harrycslau/miniconda3/envs/llmenv/lib/python3.11/site-packages (from torch>=1.3.0->stanza) (2024.3.1)\n",
      "Requirement already satisfied: charset-normalizer<4,>=2 in /Users/harrycslau/miniconda3/envs/llmenv/lib/python3.11/site-packages (from requests->stanza) (3.3.2)\n",
      "Requirement already satisfied: idna<4,>=2.5 in /Users/harrycslau/miniconda3/envs/llmenv/lib/python3.11/site-packages (from requests->stanza) (3.7)\n",
      "Requirement already satisfied: urllib3<3,>=1.21.1 in /Users/harrycslau/miniconda3/envs/llmenv/lib/python3.11/site-packages (from requests->stanza) (2.2.1)\n",
      "Requirement already satisfied: certifi>=2017.4.17 in /Users/harrycslau/miniconda3/envs/llmenv/lib/python3.11/site-packages (from requests->stanza) (2024.6.2)\n",
      "Requirement already satisfied: MarkupSafe>=2.0 in /Users/harrycslau/miniconda3/envs/llmenv/lib/python3.11/site-packages (from jinja2->torch>=1.3.0->stanza) (2.1.5)\n",
      "Requirement already satisfied: mpmath<1.4.0,>=1.1.0 in /Users/harrycslau/miniconda3/envs/llmenv/lib/python3.11/site-packages (from sympy->torch>=1.3.0->stanza) (1.3.0)\n",
      "Downloading stanza-1.9.2-py3-none-any.whl (1.1 MB)\n",
      "\u001b[2K   \u001b[90m━━━━━━━━━━━━━━━━━━━━━━━━━━━━━━━━━━━━━━━━\u001b[0m \u001b[32m1.1/1.1 MB\u001b[0m \u001b[31m512.3 kB/s\u001b[0m eta \u001b[36m0:00:00\u001b[0m00:01\u001b[0m00:01\u001b[0m\n",
      "\u001b[?25hInstalling collected packages: stanza\n",
      "Successfully installed stanza-1.9.2\n"
     ]
    }
   ],
   "source": [
    "#!pip install stanza"
   ]
  },
  {
   "cell_type": "code",
   "execution_count": 8,
   "metadata": {},
   "outputs": [
    {
     "name": "stderr",
     "output_type": "stream",
     "text": [
      "Downloading https://raw.githubusercontent.com/stanfordnlp/stanza-resources/main/resources_1.9.0.json: 392kB [00:00, 2.89MB/s]                    \n",
      "2024-11-03 22:22:40 INFO: Downloaded file to /Users/harrycslau/stanza_resources/resources.json\n",
      "2024-11-03 22:22:40 INFO: Downloading default packages for language: fi (Finnish) ...\n",
      "Downloading https://huggingface.co/stanfordnlp/stanza-fi/resolve/v1.9.0/models/default.zip: 100%|██████████| 348M/348M [00:52<00:00, 6.68MB/s] \n",
      "2024-11-03 22:23:34 INFO: Downloaded file to /Users/harrycslau/stanza_resources/fi/default.zip\n",
      "2024-11-03 22:23:37 INFO: Finished downloading models and saved to /Users/harrycslau/stanza_resources\n"
     ]
    }
   ],
   "source": [
    "import stanza\n",
    "stanza.download(\"fi\")"
   ]
  },
  {
   "cell_type": "code",
   "execution_count": 19,
   "metadata": {},
   "outputs": [],
   "source": [
    "def get_feats(feats_str):\n",
    "    if not feats_str:\n",
    "        return {}\n",
    "    return dict(feat.split('=') for feat in feats_str.split('|'))\n",
    "\n",
    "def get_feats_str(feats_str):\n",
    "    if not feats_str:\n",
    "        return '*'\n",
    "    return feats_str  # Return the full features string\n"
   ]
  },
  {
   "cell_type": "code",
   "execution_count": 21,
   "metadata": {},
   "outputs": [
    {
     "name": "stderr",
     "output_type": "stream",
     "text": [
      "2024-11-04 00:51:51 INFO: Checking for updates to resources.json in case models have been updated.  Note: this behavior can be turned off with download_method=None or download_method=DownloadMethod.REUSE_RESOURCES\n",
      "Downloading https://raw.githubusercontent.com/stanfordnlp/stanza-resources/main/resources_1.9.0.json: 392kB [00:00, 2.49MB/s]                    \n",
      "2024-11-04 00:51:52 INFO: Downloaded file to /Users/harrycslau/stanza_resources/resources.json\n",
      "2024-11-04 00:51:52 INFO: Loading these models for language: fi (Finnish):\n",
      "============================\n",
      "| Processor | Package      |\n",
      "----------------------------\n",
      "| tokenize  | tdt          |\n",
      "| mwt       | tdt          |\n",
      "| pos       | tdt_charlm   |\n",
      "| lemma     | tdt_nocharlm |\n",
      "============================\n",
      "\n",
      "2024-11-04 00:51:52 INFO: Using device: cpu\n",
      "2024-11-04 00:51:52 INFO: Loading: tokenize\n",
      "2024-11-04 00:51:52 INFO: Loading: mwt\n",
      "2024-11-04 00:51:52 INFO: Loading: pos\n",
      "2024-11-04 00:51:53 INFO: Loading: lemma\n",
      "2024-11-04 00:51:53 INFO: Done loading processors!\n"
     ]
    },
    {
     "name": "stdout",
     "output_type": "stream",
     "text": [
      "Ilmoittautumiset     ilmoittautuminen NOUN       Case=Nom|Derivation=Minen|Number=Plur\n",
      "alla                 alla            ADV        *\n",
      "olevan               olla            VERB       Case=Gen|Number=Sing|PartForm=Pres|VerbForm=Part|Voice=Act\n",
      "varauskalenterin     varaus#kalenteri NOUN       Case=Gen|Number=Sing\n",
      "kautta               kautta          ADP        AdpType=Post\n",
      ".                    .               PUNCT      *\n",
      "Tervetuloa           tervetulota     VERB       Mood=Imp|Number=Sing|Person=2|VerbForm=Fin|Voice=Act\n",
      "askartelemaan        askarrella      VERB       Case=Ill|InfForm=3|Number=Sing|VerbForm=Inf|Voice=Act\n",
      "yhdessä              yhdessä         ADV        *\n",
      "!                    !               PUNCT      *\n"
     ]
    }
   ],
   "source": [
    "nlp = stanza.Pipeline(lang=\"fi\", processors='tokenize,mwt,pos,lemma')\n",
    "doc = nlp(\"Ilmoittautumiset alla olevan varauskalenterin kautta. Tervetuloa askartelemaan yhdessä!\")\n",
    "for sentence in doc.sentences:\n",
    "    for word in sentence.words:\n",
    "        feats = get_feats_str(word.feats)\n",
    "        print(f\"{word.text:<20} {word.lemma:<15} {word.pos:<10} {feats}\")"
   ]
  },
  {
   "cell_type": "code",
   "execution_count": null,
   "metadata": {},
   "outputs": [],
   "source": []
  }
 ],
 "metadata": {
  "kernelspec": {
   "display_name": "llmenv",
   "language": "python",
   "name": "python3"
  },
  "language_info": {
   "codemirror_mode": {
    "name": "ipython",
    "version": 3
   },
   "file_extension": ".py",
   "mimetype": "text/x-python",
   "name": "python",
   "nbconvert_exporter": "python",
   "pygments_lexer": "ipython3",
   "version": "3.11.9"
  }
 },
 "nbformat": 4,
 "nbformat_minor": 2
}
